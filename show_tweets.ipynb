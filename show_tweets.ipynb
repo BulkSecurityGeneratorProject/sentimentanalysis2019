{
 "cells": [
  {
   "cell_type": "code",
   "execution_count": 24,
   "metadata": {},
   "outputs": [],
   "source": [
    "#Function to show all the tweets containing the inputted string x    \n",
    "def show(x):\n",
    "    \n",
    "    output = []\n",
    "    \n",
    "    with open('TestTweets.txt') as fp:\n",
    "        for line in fp:\n",
    "            if x in line:\n",
    "                output.append(line.rstrip())\n",
    "    return output"
   ]
  },
  {
   "cell_type": "code",
   "execution_count": 25,
   "metadata": {},
   "outputs": [
    {
     "data": {
      "text/plain": [
       "['\"I love Wits\"',\n",
       " '\"I really like food at Wits\"',\n",
       " '\"Wits Students really do exercise their right to protest.\"',\n",
       " '\"Wits Vodka Party was pretty average if you ask me. Nothing wow, not bad either.\"',\n",
       " '\"Wits Vodka Party last year was so shit. Basically all of my friends got mugged.\"']"
      ]
     },
     "execution_count": 25,
     "metadata": {},
     "output_type": "execute_result"
    }
   ],
   "source": [
    "show('Wits')"
   ]
  },
  {
   "cell_type": "code",
   "execution_count": null,
   "metadata": {},
   "outputs": [],
   "source": []
  }
 ],
 "metadata": {
  "kernelspec": {
   "display_name": "Python 3",
   "language": "python",
   "name": "python3"
  },
  "language_info": {
   "codemirror_mode": {
    "name": "ipython",
    "version": 3
   },
   "file_extension": ".py",
   "mimetype": "text/x-python",
   "name": "python",
   "nbconvert_exporter": "python",
   "pygments_lexer": "ipython3",
   "version": "3.6.4"
  }
 },
 "nbformat": 4,
 "nbformat_minor": 2
}
