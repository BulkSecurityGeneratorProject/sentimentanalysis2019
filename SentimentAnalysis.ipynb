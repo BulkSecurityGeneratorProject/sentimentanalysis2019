{
 "cells": [
  {
   "cell_type": "code",
   "execution_count": 42,
   "metadata": {},
   "outputs": [
    {
     "name": "stdout",
     "output_type": "stream",
     "text": [
      "negative\n",
      "negative\n",
      "positive\n",
      "positive\n"
     ]
    }
   ],
   "source": [
    "from textblob import TextBlob \n",
    "\n",
    "\n",
    "str1 = 'i love Wits'\n",
    "str2 = 'i hate Tuks'\n",
    "str3 = 'i really like food at Wits'\n",
    "str4 = 'i really do not like food at Tuks'\n",
    "\n",
    "strs = []\n",
    "strs.append(str1)\n",
    "strs.append(str2)\n",
    "strs.append(str3)\n",
    "strs.append(str4)\n",
    "    \n",
    "wits = ['Wits']\n",
    "Wits = [s for s in strs if any(xs in s for xs in wits)]\n",
    "\n",
    "tuks = ['Tuks']\n",
    "Tuks = [s for s in strs if any(xs in s for xs in tuks)]\n",
    "\n",
    "def analysis(str):\n",
    "    analysis = TextBlob(str)\n",
    "    \n",
    "    if analysis.sentiment.polarity > 0:\n",
    "        return 'positive'\n",
    "    if analysis.sentiment.polarity == 0:\n",
    "        return 'neutral'\n",
    "    else:\n",
    "        return 'negative'\n",
    "    \n",
    "for s in Tuks:\n",
    "    a = analysis(s)\n",
    "    print (a)\n",
    "    \n",
    "for b in Wits:\n",
    "    n = analysis(b)\n",
    "    print (n)"
   ]
  },
  {
   "cell_type": "code",
   "execution_count": null,
   "metadata": {},
   "outputs": [],
   "source": []
  }
 ],
 "metadata": {
  "kernelspec": {
   "display_name": "Python 3",
   "language": "python",
   "name": "python3"
  },
  "language_info": {
   "codemirror_mode": {
    "name": "ipython",
    "version": 3
   },
   "file_extension": ".py",
   "mimetype": "text/x-python",
   "name": "python",
   "nbconvert_exporter": "python",
   "pygments_lexer": "ipython3",
   "version": "3.6.5"
  }
 },
 "nbformat": 4,
 "nbformat_minor": 2
}
