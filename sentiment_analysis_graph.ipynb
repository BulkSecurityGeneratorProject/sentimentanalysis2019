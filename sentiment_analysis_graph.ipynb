{
 "cells": [
  {
   "cell_type": "code",
   "execution_count": 1,
   "metadata": {},
   "outputs": [],
   "source": [
    "from textblob import TextBlob\n",
    "\n",
    "str1 = 'i love Wits'\n",
    "str2 = 'i hate Tuks'\n",
    "str3 = 'i really like food at Wits'\n",
    "str4 = 'i really do not like food at Tuks'\n",
    "\n",
    "strs = []\n",
    "strs.append(str1)\n",
    "strs.append(str2)\n",
    "strs.append(str3)\n",
    "strs.append(str4)\n",
    "    \n",
    "wits = ['Wits'] #you can add another parameter here for wits such as 'protests' and it will find both wits and protests\n",
    "Wits = [s for s in strs if any(xs in s for xs in wits)]\n",
    "\n",
    "tuks = ['Tuks']\n",
    "Tuks = [s for s in strs if any(xs in s for xs in tuks)]\n",
    "\n",
    "def analysis(str):\n",
    "    analysis = TextBlob(str)\n",
    "    \n",
    "    if analysis.sentiment.polarity > 0:\n",
    "        return 'positive'\n",
    "    if analysis.sentiment.polarity == 0:\n",
    "        return 'neutral'\n",
    "    else:\n",
    "        return 'negative'\n",
    "    \n",
    "for s in Tuks:\n",
    "    a = analysis(s)\n",
    "    print (a)\n",
    "    \n",
    "for b in Wits:\n",
    "    n = analysis(b)\n",
    "    print (n)"
   ]
  },
  {
   "cell_type": "code",
   "execution_count": null,
   "metadata": {
    "scrolled": true
   },
   "outputs": [],
   "source": []
  },
  {
   "cell_type": "code",
   "execution_count": 2,
   "metadata": {},
   "outputs": [],
   "source": []
  },
  {
   "cell_type": "code",
   "execution_count": 6,
   "metadata": {},
   "outputs": [],
   "source": [
    "import csv\n",
    "\n",
    "csvData = [['Wits', 'Tuks'], ['positive', 'positive'], ['positive', 'negative'], ['negative', 'negative']]\n",
    "\n",
    "with open('witstuks.csv', 'w') as csvFile:\n",
    "    writer = csv.writer(csvFile)\n",
    "    writer.writerows(csvData)\n",
    "\n",
    "csvFile.close()"
   ]
  },
  {
   "cell_type": "code",
   "execution_count": 8,
   "metadata": {},
   "outputs": [
    {
     "data": {
      "image/png": "[encoded data removed]",
      "text/plain": [
       "<matplotlib.figure.Figure at 0x1a2784698d0>"
      ]
     },
     "metadata": {},
     "output_type": "display_data"
    }
   ],
   "source": [
    "import csv\n",
    "from collections import Counter\n",
    "import matplotlib.pyplot as plt\n",
    "import numpy as np\n",
    "\n",
    "n_groups = 2\n",
    "\n",
    "with open('witstuks.csv', 'r') as data:\n",
    "    counter = Counter()\n",
    "    for row in csv.DictReader(data):\n",
    "        counter[row['Tuks']] += 1\n",
    "        \n",
    "    for row in csv.DictReader(data):\n",
    "        counter[row['Wits']] += 1\n",
    "        \n",
    "    positive = counter['positive']\n",
    "    negative = counter['negative']\n",
    "        \n",
    "tuks_results = [positive,negative]\n",
    "wits_results = [positive,negative]\n",
    "\n",
    "fig, ax = plt.subplots()\n",
    "index = np.arange(n_groups)\n",
    "bar_width = 0.35\n",
    "opacity = 0.8\n",
    "\n",
    "rects1 = plt.bar(index, tuks_results, bar_width,\n",
    "alpha=opacity,\n",
    "color='b',\n",
    "label='Tuks')\n",
    "\n",
    "rects1 = plt.bar(index + bar_width, wits_results, bar_width,\n",
    "alpha=opacity,\n",
    "color='r',\n",
    "label='Wits')\n",
    "\n",
    "plt.xlabel('Sentiment')\n",
    "plt.ylabel('Number of tweets')\n",
    "plt.title('Sentiment Analysis Graph')\n",
    "plt.xticks(index + bar_width, ('positive', 'negative'))\n",
    "plt.legend()\n",
    "plt.tight_layout()\n",
    "\n",
    "plt.show()"
   ]
  },
  {
   "cell_type": "code",
   "execution_count": null,
   "metadata": {},
   "outputs": [],
   "source": []
  }
 ],
 "metadata": {
  "kernelspec": {
   "display_name": "Python 3",
   "language": "python",
   "name": "python3"
  },
  "language_info": {
   "codemirror_mode": {
    "name": "ipython",
    "version": 3
   },
   "file_extension": ".py",
   "mimetype": "text/x-python",
   "name": "python",
   "nbconvert_exporter": "python",
   "pygments_lexer": "ipython3",
   "version": "3.6.4"
  }
 },
 "nbformat": 4,
 "nbformat_minor": 2
}
